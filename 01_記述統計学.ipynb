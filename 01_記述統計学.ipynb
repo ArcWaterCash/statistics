{
  "nbformat": 4,
  "nbformat_minor": 0,
  "metadata": {
    "colab": {
      "name": "01.記述統計学",
      "provenance": [],
      "collapsed_sections": [],
      "authorship_tag": "ABX9TyMrMmBWeeTboByaPz9PE0Z7",
      "include_colab_link": true
    },
    "kernelspec": {
      "name": "python3",
      "display_name": "Python 3"
    }
  },
  "cells": [
    {
      "cell_type": "markdown",
      "metadata": {
        "id": "view-in-github",
        "colab_type": "text"
      },
      "source": [
        "<a href=\"https://colab.research.google.com/github/ArcWaterCash/statistics/blob/main/01_%E8%A8%98%E8%BF%B0%E7%B5%B1%E8%A8%88%E5%AD%A6.ipynb\" target=\"_parent\"><img src=\"https://colab.research.google.com/assets/colab-badge.svg\" alt=\"Open In Colab\"/></a>"
      ]
    },
    {
      "cell_type": "markdown",
      "metadata": {
        "id": "D8O0K2UwPw_a"
      },
      "source": [
        "## 1. いろいろな平均"
      ]
    },
    {
      "cell_type": "code",
      "metadata": {
        "colab": {
          "base_uri": "https://localhost:8080/"
        },
        "id": "n-FYpNtYJNut",
        "outputId": "7447b945-c1a7-4162-ee5f-031a3d76fd80"
      },
      "source": [
        "electric_bills = [2200,2700,5800,7500,11500,7300,2700,3100,2500,4300,2200,4100]\n",
        "\n",
        "## 算術平均\n",
        "def arithmetic_mean(lst):\n",
        "    a = 0\n",
        "    for e in lst:\n",
        "        a += e\n",
        "    return a/len(lst)\n",
        "\n",
        "print('算術平均:', arithmetic_mean(electric_bills))\n",
        "\n",
        "## 幾何平均\n",
        "def geometric_mean(lst):\n",
        "    a = 1\n",
        "    for e in lst:\n",
        "        a *= e\n",
        "    return a**(1/len(lst))\n",
        "\n",
        "print('算術平均:', geometric_mean(electric_bills))\n",
        "\n",
        "## 調和平均\n",
        "def harmonic_mean(lst):\n",
        "    a = 0\n",
        "    for e in lst:\n",
        "        a += (1/e)\n",
        "    return len(lst)/a\n",
        "\n",
        "print('調和平均:', harmonic_mean(electric_bills))"
      ],
      "execution_count": 1,
      "outputs": [
        {
          "output_type": "stream",
          "text": [
            "算術平均: 4658.333333333333\n",
            "算術平均: 4016.0866258766096\n",
            "調和平均: 3551.8060868841694\n"
          ],
          "name": "stdout"
        }
      ]
    },
    {
      "cell_type": "markdown",
      "metadata": {
        "id": "qmno5pULP5zd"
      },
      "source": [
        "## 2. データのバラツキ①"
      ]
    },
    {
      "cell_type": "code",
      "metadata": {
        "colab": {
          "base_uri": "https://localhost:8080/"
        },
        "id": "Iph_lkyUNsOk",
        "outputId": "11fd3798-5655-4a91-9986-f1106de327de"
      },
      "source": [
        "electric_bills = [2200,2700,4800,7500,11500,7300,2700,3100,2500,4300,2200,4100]\n",
        "electric_bills = sorted(electric_bills)\n",
        "\n",
        "# 分位数\n",
        "n_quantile = len(electric_bills)//4\n",
        "i = n_quantile * 1 - 1\n",
        "quantile_1 = (electric_bills[i] + electric_bills[i+1])/2\n",
        "print('第一四分位数', quantile_1)\n",
        "\n",
        "i = n_quantile * 2 - 1\n",
        "quantile_2 = (electric_bills[i] + electric_bills[i+1])/2\n",
        "print('第二四分位数（中央値）', quantile_2)\n",
        "\n",
        "i = n_quantile * 3 - 1\n",
        "quantile_3 = (electric_bills[i] + electric_bills[i+1])/2\n",
        "print('第三四分位数', quantile_3)\n",
        "\n",
        "# 四分位範囲\n",
        "diff_quantile_3_1 = quantile_3 - quantile_1\n",
        "print('四分位範囲', diff_quantile_3_1)\n",
        "\n",
        "# 偏差\n",
        "def deviation(lst):\n",
        "    lst_mean = arithmetic_mean(lst)\n",
        "    deviations = []\n",
        "    for e in lst:\n",
        "        deviation = abs(e - lst_mean)\n",
        "        deviations.append(deviation)\n",
        "    return deviations\n",
        "print('偏差:', deviation(electric_bills))\n",
        "\n",
        "# 分散\n",
        "def variance(lst):\n",
        "    lst_mean = arithmetic_mean(lst)\n",
        "    ret = 0 \n",
        "    for e in lst:\n",
        "        ret += (e - lst_mean)**2\n",
        "    ret /= len(lst)\n",
        "    return ret\n",
        "print('分散:', variance(electric_bills))\n",
        "\n",
        "def standard_deviation(lst):\n",
        "    return variance(lst) ** (1/2)\n",
        "print('標準偏差:', standard_deviation(electric_bills))\n",
        "\n",
        "# 外れ値\n",
        "electric_bills_deviations = deviation(electric_bills)\n",
        "for i,e in enumerate(electric_bills_deviations):\n",
        "    if e == max(electric_bills_deviations):\n",
        "        print('外れ値:', electric_bills[i])"
      ],
      "execution_count": 2,
      "outputs": [
        {
          "output_type": "stream",
          "text": [
            "第一四分位数 2600.0\n",
            "第二四分位数（中央値） 3600.0\n",
            "第三四分位数 6050.0\n",
            "四分位範囲 3450.0\n",
            "偏差: [2375.0, 2375.0, 2075.0, 1875.0, 1875.0, 1475.0, 475.0, 275.0, 225.0, 2725.0, 2925.0, 6925.0]\n",
            "分散: 7423541.666666667\n",
            "標準偏差: 2724.61771018737\n",
            "外れ値: 11500\n"
          ],
          "name": "stdout"
        }
      ]
    },
    {
      "cell_type": "markdown",
      "metadata": {
        "id": "OlbqAeJ3cAqe"
      },
      "source": [
        "## 3. データのバラツキ②"
      ]
    },
    {
      "cell_type": "code",
      "metadata": {
        "colab": {
          "base_uri": "https://localhost:8080/"
        },
        "id": "Yz5tKmB6W8k6",
        "outputId": "a27401a0-b985-4fdc-a084-18588e5a0004"
      },
      "source": [
        "## 変動係数\n",
        "beef_prices = [256,260,266,269,257,257,266,267,264,266,262,260]\n",
        "pork_prices = [194,195,195,202,196,193,200,192,191,191,195,196]\n",
        "\n",
        "print('算術平均', arithmetic_mean(beef_prices), arithmetic_mean(pork_prices))\n",
        "print('標準偏差', standard_deviation(beef_prices), standard_deviation(pork_prices))\n",
        "\n",
        "def cv(lst):\n",
        "    return standard_deviation(lst) / arithmetic_mean(lst)\n",
        "\n",
        "print('変動係数', cv(beef_prices), cv(pork_prices))"
      ],
      "execution_count": 3,
      "outputs": [
        {
          "output_type": "stream",
          "text": [
            "算術平均 262.5 195.0\n",
            "標準偏差 4.252450274057691 3.1885210782848317\n",
            "変動係数 0.016199810567838823 0.01635139014505042\n"
          ],
          "name": "stdout"
        }
      ]
    },
    {
      "cell_type": "markdown",
      "metadata": {
        "id": "c9h8hYykgIEE"
      },
      "source": [
        "## 4. 変数の関連性①"
      ]
    },
    {
      "cell_type": "code",
      "metadata": {
        "colab": {
          "base_uri": "https://localhost:8080/"
        },
        "id": "F1Vpzmm9cHOe",
        "outputId": "8323e5eb-2a10-4947-a570-955789f82bbd"
      },
      "source": [
        "x = [1,2,5,6]\n",
        "y = [2,1,4,3]\n",
        "x_mean = arithmetic_mean(x)\n",
        "y_mean = arithmetic_mean(y)\n",
        "print('平均:', x_mean, y_mean)\n",
        "\n",
        "x_mean_diff = [i - x_mean for i in x]\n",
        "y_mean_diff = [i - y_mean for i in y]\n",
        "print('平均との差:', x_mean_diff, y_mean_diff)\n",
        "\n",
        "# ピアソンの積率相関係数\n",
        "def product_moment_correlation_coefficient(x_list, y_list):\n",
        "    x_mean = arithmetic_mean(x_list)\n",
        "    y_mean = arithmetic_mean(y_list)\n",
        "\n",
        "    x_mean_diff = [i - x_mean for i in x_list]\n",
        "    y_mean_diff = [i - y_mean for i in y_list]\n",
        "\n",
        "    molecule = 0\n",
        "    for x_d, y_d in zip(x_mean_diff, y_mean_diff):\n",
        "        molecule += x_d * y_d\n",
        "\n",
        "    def deviation_square_sum_root(lst_mean_diff):\n",
        "        value_square_sum = 0\n",
        "        for d in lst_mean_diff:\n",
        "            value_square_sum += d**2\n",
        "        return value_square_sum ** (1/2)\n",
        "\n",
        "    x_deviation_square_sum_root = deviation_square_sum_root(x_mean_diff)\n",
        "    y_deviation_square_sum_root = deviation_square_sum_root(y_mean_diff)\n",
        "    denominator = x_deviation_square_sum_root * y_deviation_square_sum_root\n",
        "\n",
        "    return molecule/denominator\n",
        "\n",
        "\"\"\"\n",
        "1:正の相関\n",
        "-1:負の相関\n",
        "0:相関がない\n",
        "\"\"\"\n",
        "print('ピアソンの積率相関係数', product_moment_correlation_coefficient(x,y))"
      ],
      "execution_count": 4,
      "outputs": [
        {
          "output_type": "stream",
          "text": [
            "平均: 3.5 2.5\n",
            "平均との差: [-2.5, -1.5, 1.5, 2.5] [-0.5, -1.5, 1.5, 0.5]\n",
            "ピアソンの積率相関係数 0.7592566023652966\n"
          ],
          "name": "stdout"
        }
      ]
    },
    {
      "cell_type": "markdown",
      "metadata": {
        "id": "4HZYSsTrg7ED"
      },
      "source": [
        "## 5. 変数の関連性②"
      ]
    },
    {
      "cell_type": "code",
      "metadata": {
        "colab": {
          "base_uri": "https://localhost:8080/"
        },
        "id": "eOFcrHowg766",
        "outputId": "e0d43272-22a5-44a5-a4ce-a73f80337545"
      },
      "source": [
        "def rank(lst):\n",
        "    lst_sorted = sorted(lst)\n",
        "    rank_lst = []\n",
        "    for l in lst:\n",
        "        for i, ls in enumerate(lst_sorted):\n",
        "            if l == ls:\n",
        "                rank_lst.append(i)\n",
        "                break\n",
        "            else:\n",
        "                continue\n",
        "    return rank_lst\n",
        "\n",
        "def rank_correlation_coefficient(x_list, y_list):\n",
        "    x_rank_list = rank(x_list)\n",
        "    y_rank_list = rank(y_list)\n",
        "\n",
        "    x_mean = arithmetic_mean(x_rank_list)\n",
        "    y_mean = arithmetic_mean(y_rank_list)\n",
        "\n",
        "    x_mean_diff = [i - x_mean for i in x_rank_list]\n",
        "    y_mean_diff = [i - y_mean for i in y_rank_list]\n",
        "\n",
        "    molecule = 0\n",
        "    for x_d, y_d in zip(x_mean_diff, y_mean_diff):\n",
        "        molecule += x_d * y_d\n",
        "\n",
        "    def deviation_square_sum_root(lst_mean_diff):\n",
        "        value_square_sum = 0\n",
        "        for d in lst_mean_diff:\n",
        "            value_square_sum += d**2\n",
        "        return value_square_sum ** (1/2)\n",
        "\n",
        "    x_deviation_square_sum_root = deviation_square_sum_root(x_mean_diff)\n",
        "    y_deviation_square_sum_root = deviation_square_sum_root(y_mean_diff)\n",
        "    denominator = x_deviation_square_sum_root * y_deviation_square_sum_root\n",
        "\n",
        "    return molecule/denominator\n",
        "\n",
        "print('スピアマンの順位相関係数', rank_correlation_coefficient(x,y))\n",
        "\n",
        "def rank_correlation_coefficient2(x_list, y_list):\n",
        "    x_rank_list = rank(x_list)\n",
        "    y_rank_list = rank(y_list)\n",
        "    \n",
        "    n_match = 0\n",
        "    n_unmatch = 0\n",
        "    for i in range(len(x_rank_list)-1):\n",
        "        for j in range(i+1, len(x_rank_list)):\n",
        "            if (x_rank_list[i] - x_rank_list[j]) * (y_rank_list[i] - y_rank_list[j]) > 0:\n",
        "                n_match += 1\n",
        "            else:\n",
        "                n_unmatch += 1\n",
        "\n",
        "    return (n_match - n_unmatch) / (1/2 * len(x_rank_list) * (len(x_rank_list) - 1))\n",
        "\n",
        "print('ケンドールの順位相関係数', rank_correlation_coefficient2(x,y))"
      ],
      "execution_count": 5,
      "outputs": [
        {
          "output_type": "stream",
          "text": [
            "スピアマンの順位相関係数 0.5999999999999999\n",
            "ケンドールの順位相関係数 0.3333333333333333\n"
          ],
          "name": "stdout"
        }
      ]
    }
  ]
}