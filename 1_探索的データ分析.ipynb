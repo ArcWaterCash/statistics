{
  "nbformat": 4,
  "nbformat_minor": 0,
  "metadata": {
    "colab": {
      "name": "1.探索的データ分析.ipynb",
      "provenance": [],
      "authorship_tag": "ABX9TyObnGACGP9pQRCoUcDfau/Z",
      "include_colab_link": true
    },
    "kernelspec": {
      "name": "python3",
      "display_name": "Python 3"
    }
  },
  "cells": [
    {
      "cell_type": "markdown",
      "metadata": {
        "id": "view-in-github",
        "colab_type": "text"
      },
      "source": [
        "<a href=\"https://colab.research.google.com/github/ArcWaterCash/statistics/blob/main/1_%E6%8E%A2%E7%B4%A2%E7%9A%84%E3%83%87%E3%83%BC%E3%82%BF%E5%88%86%E6%9E%90.ipynb\" target=\"_parent\"><img src=\"https://colab.research.google.com/assets/colab-badge.svg\" alt=\"Open In Colab\"/></a>"
      ]
    },
    {
      "cell_type": "code",
      "metadata": {
        "colab": {
          "base_uri": "https://localhost:8080/"
        },
        "id": "1eIYV0gCOUr5",
        "outputId": "f9acb157-5ce7-427c-b793-0214dc2abaaa"
      },
      "source": [
        "!rm *.csv\n",
        "!wget https://www.dropbox.com/sh/clb5aiswr7ar0ci/AABBNwTcTNey2ipoSw_kH5gra?dl=1 -O files.zip\n",
        "!unzip files.zip"
      ],
      "execution_count": 1,
      "outputs": [
        {
          "output_type": "stream",
          "text": [
            "--2021-01-03 18:53:30--  https://www.dropbox.com/sh/clb5aiswr7ar0ci/AABBNwTcTNey2ipoSw_kH5gra?dl=1\n",
            "Resolving www.dropbox.com (www.dropbox.com)... 162.125.82.18, 2620:100:6032:18::a27d:5212\n",
            "Connecting to www.dropbox.com (www.dropbox.com)|162.125.82.18|:443... connected.\n",
            "HTTP request sent, awaiting response... 301 Moved Permanently\n",
            "Location: /sh/dl/clb5aiswr7ar0ci/AABBNwTcTNey2ipoSw_kH5gra [following]\n",
            "--2021-01-03 18:53:30--  https://www.dropbox.com/sh/dl/clb5aiswr7ar0ci/AABBNwTcTNey2ipoSw_kH5gra\n",
            "Reusing existing connection to www.dropbox.com:443.\n",
            "HTTP request sent, awaiting response... 302 Found\n",
            "Location: https://uc97d412b2f4e96c14a157d93e56.dl.dropboxusercontent.com/zip_download_get/ApvEZ4F1Qtl0vRnir0cuWBzzJkcuym4CKnmebsK8r8-aKeZVQFI6_s1QMTTU90MxTggJq_HFBOS58ETbBBYnti_G1yrhVIKLi4aDMaUK58dsPg?dl=1 [following]\n",
            "--2021-01-03 18:53:30--  https://uc97d412b2f4e96c14a157d93e56.dl.dropboxusercontent.com/zip_download_get/ApvEZ4F1Qtl0vRnir0cuWBzzJkcuym4CKnmebsK8r8-aKeZVQFI6_s1QMTTU90MxTggJq_HFBOS58ETbBBYnti_G1yrhVIKLi4aDMaUK58dsPg?dl=1\n",
            "Resolving uc97d412b2f4e96c14a157d93e56.dl.dropboxusercontent.com (uc97d412b2f4e96c14a157d93e56.dl.dropboxusercontent.com)... 162.125.82.15, 2620:100:6032:15::a27d:520f\n",
            "Connecting to uc97d412b2f4e96c14a157d93e56.dl.dropboxusercontent.com (uc97d412b2f4e96c14a157d93e56.dl.dropboxusercontent.com)|162.125.82.15|:443... connected.\n",
            "HTTP request sent, awaiting response... 200 OK\n",
            "Length: 80849939 (77M) [application/zip]\n",
            "Saving to: ‘files.zip’\n",
            "\n",
            "files.zip           100%[===================>]  77.10M  15.1MB/s    in 5.8s    \n",
            "\n",
            "2021-01-03 18:53:37 (13.2 MB/s) - ‘files.zip’ saved [80849939/80849939]\n",
            "\n",
            "Archive:  files.zip\n",
            "warning:  stripped absolute path spec from /\n",
            "mapname:  conversion of  failed\n",
            " extracting: state.csv               \n",
            " extracting: kc_tax.csv              \n",
            " extracting: loan200.csv             \n",
            " extracting: lc_loans.csv            \n",
            " extracting: loan3000.csv            \n",
            " extracting: sp500_px.csv            \n",
            " extracting: loan_data.csv           \n",
            " extracting: sp500_sym.csv           \n",
            " extracting: dfw_airline.csv         \n",
            " extracting: LungDisease.csv         \n",
            " extracting: house_sales.csv         \n",
            " extracting: click_rates.csv         \n",
            " extracting: loans_income.csv        \n",
            " extracting: airline_stats.csv       \n",
            " extracting: web_page_data.csv       \n",
            " extracting: imanishi_data.csv       \n",
            " extracting: four_sessions.csv       \n",
            " extracting: County_Zhvi_AllHomes.csv  \n"
          ],
          "name": "stdout"
        }
      ]
    },
    {
      "cell_type": "markdown",
      "metadata": {
        "id": "AyPC19OdK7kX"
      },
      "source": [
        "# 1.3 位置の推定"
      ]
    },
    {
      "cell_type": "code",
      "metadata": {
        "colab": {
          "base_uri": "https://localhost:8080/"
        },
        "id": "_Bf9XnY3OWPB",
        "outputId": "537eadd0-3c0f-495f-c2b2-3cc7d6cfec3e"
      },
      "source": [
        "# 平均値：外れ値の影響を受けやすい\n",
        "import pandas as pd\n",
        "state = pd.read_csv('state.csv')\n",
        "state['Population'].mean()"
      ],
      "execution_count": 2,
      "outputs": [
        {
          "output_type": "execute_result",
          "data": {
            "text/plain": [
              "6162876.3"
            ]
          },
          "metadata": {
            "tags": []
          },
          "execution_count": 2
        }
      ]
    },
    {
      "cell_type": "code",
      "metadata": {
        "colab": {
          "base_uri": "https://localhost:8080/"
        },
        "id": "-DcjjnVHOyBs",
        "outputId": "31444005-6e7d-477e-d8bc-c6ef43a69238"
      },
      "source": [
        "# トリム平均：外れ値の影響を受けにくい\n",
        "from scipy.stats import trim_mean\n",
        "trim_mean(state['Population'], 0.1)"
      ],
      "execution_count": 3,
      "outputs": [
        {
          "output_type": "execute_result",
          "data": {
            "text/plain": [
              "4783697.125"
            ]
          },
          "metadata": {
            "tags": []
          },
          "execution_count": 3
        }
      ]
    },
    {
      "cell_type": "code",
      "metadata": {
        "colab": {
          "base_uri": "https://localhost:8080/"
        },
        "id": "jwrwPgqsPHB3",
        "outputId": "483c0346-3171-41aa-ec5a-cf4110713ebf"
      },
      "source": [
        "# 中央値：外れ値の影響を受けにくい\n",
        "state['Population'].median()"
      ],
      "execution_count": 4,
      "outputs": [
        {
          "output_type": "execute_result",
          "data": {
            "text/plain": [
              "4436369.5"
            ]
          },
          "metadata": {
            "tags": []
          },
          "execution_count": 4
        }
      ]
    },
    {
      "cell_type": "code",
      "metadata": {
        "colab": {
          "base_uri": "https://localhost:8080/"
        },
        "id": "bprY2VH2PPKo",
        "outputId": "7fb3f53e-405f-481b-8eab-451ecb993dc8"
      },
      "source": [
        "# 加重平均\n",
        "import numpy as np\n",
        "np.average(state['Murder.Rate'], weights=state['Population'])"
      ],
      "execution_count": 5,
      "outputs": [
        {
          "output_type": "execute_result",
          "data": {
            "text/plain": [
              "4.445833981123393"
            ]
          },
          "metadata": {
            "tags": []
          },
          "execution_count": 5
        }
      ]
    },
    {
      "cell_type": "code",
      "metadata": {
        "colab": {
          "base_uri": "https://localhost:8080/"
        },
        "id": "-TNpBCRwQ95y",
        "outputId": "2572538a-247f-4de1-d019-c8928ada8c41"
      },
      "source": [
        "# 加重中央値\n",
        "!pip install wquantiles\n",
        "import wquantiles\n",
        "wquantiles.median(state['Murder.Rate'], weights=state['Population'])"
      ],
      "execution_count": 6,
      "outputs": [
        {
          "output_type": "stream",
          "text": [
            "Requirement already satisfied: wquantiles in /usr/local/lib/python3.6/dist-packages (0.5)\n",
            "Requirement already satisfied: numpy in /usr/local/lib/python3.6/dist-packages (from wquantiles) (1.19.4)\n"
          ],
          "name": "stdout"
        },
        {
          "output_type": "execute_result",
          "data": {
            "text/plain": [
              "4.4"
            ]
          },
          "metadata": {
            "tags": []
          },
          "execution_count": 6
        }
      ]
    },
    {
      "cell_type": "markdown",
      "metadata": {
        "id": "I05fT0Q5R6dv"
      },
      "source": [
        "# 1.4 散らばりの推定"
      ]
    },
    {
      "cell_type": "code",
      "metadata": {
        "colab": {
          "base_uri": "https://localhost:8080/"
        },
        "id": "6fyPOereRM6P",
        "outputId": "2494dd36-e1a2-4819-f286-6ad105dc5222"
      },
      "source": [
        "# 標準偏差\n",
        "state['Population'].std()"
      ],
      "execution_count": 7,
      "outputs": [
        {
          "output_type": "execute_result",
          "data": {
            "text/plain": [
              "6848235.347401142"
            ]
          },
          "metadata": {
            "tags": []
          },
          "execution_count": 7
        }
      ]
    },
    {
      "cell_type": "code",
      "metadata": {
        "colab": {
          "base_uri": "https://localhost:8080/"
        },
        "id": "uHXcUYZXbk11",
        "outputId": "f2c92083-daab-43ab-eb2d-e279f897b4e8"
      },
      "source": [
        "# 四分位数\n",
        "state['Population'].quantile(0.75) - state['Population'].quantile(0.25)"
      ],
      "execution_count": 8,
      "outputs": [
        {
          "output_type": "execute_result",
          "data": {
            "text/plain": [
              "4847308.0"
            ]
          },
          "metadata": {
            "tags": []
          },
          "execution_count": 8
        }
      ]
    },
    {
      "cell_type": "code",
      "metadata": {
        "colab": {
          "base_uri": "https://localhost:8080/"
        },
        "id": "XFXqPZ8kcGYj",
        "outputId": "aaf85672-d436-463d-c1df-7f3b48c7af7f"
      },
      "source": [
        "# 中央偏差\n",
        "from statsmodels import robust\n",
        "robust.scale.mad(state['Population'])"
      ],
      "execution_count": 9,
      "outputs": [
        {
          "output_type": "stream",
          "text": [
            "/usr/local/lib/python3.6/dist-packages/statsmodels/tools/_testing.py:19: FutureWarning: pandas.util.testing is deprecated. Use the functions in the public API at pandas.testing instead.\n",
            "  import pandas.util.testing as tm\n"
          ],
          "name": "stderr"
        },
        {
          "output_type": "execute_result",
          "data": {
            "text/plain": [
              "3849876.1459979336"
            ]
          },
          "metadata": {
            "tags": []
          },
          "execution_count": 9
        }
      ]
    },
    {
      "cell_type": "markdown",
      "metadata": {
        "id": "BSxnE_5yeCIl"
      },
      "source": [
        "# 1.5 データ分布の探索"
      ]
    },
    {
      "cell_type": "code",
      "metadata": {
        "colab": {
          "base_uri": "https://localhost:8080/"
        },
        "id": "JG9aW27TcNd0",
        "outputId": "61b5d56b-00e3-4602-c6e4-40142e62c2ee"
      },
      "source": [
        "# パーセンタイル\n",
        "state['Murder.Rate'].quantile([.05, .25, .50, .75, .95])"
      ],
      "execution_count": 10,
      "outputs": [
        {
          "output_type": "execute_result",
          "data": {
            "text/plain": [
              "0.05    1.600\n",
              "0.25    2.425\n",
              "0.50    4.000\n",
              "0.75    5.550\n",
              "0.95    6.510\n",
              "Name: Murder.Rate, dtype: float64"
            ]
          },
          "metadata": {
            "tags": []
          },
          "execution_count": 10
        }
      ]
    },
    {
      "cell_type": "code",
      "metadata": {
        "colab": {
          "base_uri": "https://localhost:8080/",
          "height": 282
        },
        "id": "2wdxIeOjfEmP",
        "outputId": "a30511fb-eb51-4aad-acf1-70194ef3d331"
      },
      "source": [
        "# 箱ひげ図\n",
        "ax = (state['Population']/1_000_000).plot.box()\n",
        "ax.set_ylabel('Population(million)')"
      ],
      "execution_count": 11,
      "outputs": [
        {
          "output_type": "execute_result",
          "data": {
            "text/plain": [
              "Text(0, 0.5, 'Population(million)')"
            ]
          },
          "metadata": {
            "tags": []
          },
          "execution_count": 11
        },
        {
          "output_type": "display_data",
          "data": {
            "image/png": "[encoded data removed]",
            "text/plain": [
              "<Figure size 432x288 with 1 Axes>"
            ]
          },
          "metadata": {
            "tags": [],
            "needs_background": "light"
          }
        }
      ]
    },
    {
      "cell_type": "code",
      "metadata": {
        "colab": {
          "base_uri": "https://localhost:8080/"
        },
        "id": "gIXYnwmSfgbV",
        "outputId": "9abb63d7-010a-4a8b-f35d-cab9727347a8"
      },
      "source": [
        "# 度数分布\n",
        "binnedPopulation = pd.cut(state['Population'], 10)\n",
        "binnedPopulation.value_counts()"
      ],
      "execution_count": 12,
      "outputs": [
        {
          "output_type": "execute_result",
          "data": {
            "text/plain": [
              "(526935.67, 4232659.0]      24\n",
              "(4232659.0, 7901692.0]      14\n",
              "(7901692.0, 11570725.0]      6\n",
              "(11570725.0, 15239758.0]     2\n",
              "(33584923.0, 37253956.0]     1\n",
              "(22577824.0, 26246857.0]     1\n",
              "(18908791.0, 22577824.0]     1\n",
              "(15239758.0, 18908791.0]     1\n",
              "(29915890.0, 33584923.0]     0\n",
              "(26246857.0, 29915890.0]     0\n",
              "Name: Population, dtype: int64"
            ]
          },
          "metadata": {
            "tags": []
          },
          "execution_count": 12
        }
      ]
    },
    {
      "cell_type": "code",
      "metadata": {
        "colab": {
          "base_uri": "https://localhost:8080/",
          "height": 299
        },
        "id": "nTk4k7Buhlsk",
        "outputId": "723ee5dd-5b5f-4eea-cfbb-c1290a879da1"
      },
      "source": [
        "# ヒストグラム\n",
        "ax = (state['Population']/1_000_000).plot.hist(figsize=(4,4))\n",
        "ax.set_xlabel('Population(million)')"
      ],
      "execution_count": 13,
      "outputs": [
        {
          "output_type": "execute_result",
          "data": {
            "text/plain": [
              "Text(0.5, 0, 'Population(million)')"
            ]
          },
          "metadata": {
            "tags": []
          },
          "execution_count": 13
        },
        {
          "output_type": "display_data",
          "data": {
            "image/png": "[encoded data removed]",
            "text/plain": [
              "<Figure size 288x288 with 1 Axes>"
            ]
          },
          "metadata": {
            "tags": [],
            "needs_background": "light"
          }
        }
      ]
    },
    {
      "cell_type": "code",
      "metadata": {
        "colab": {
          "base_uri": "https://localhost:8080/",
          "height": 296
        },
        "id": "HGE3vy9qiFmb",
        "outputId": "330c77dd-632d-4725-b8c6-a475ca578c1a"
      },
      "source": [
        "# 密度プロット\n",
        "ax = state['Murder.Rate'].plot.hist(density=True, xlim=[0,12], bins=range(1,12))\n",
        "state['Murder.Rate'].plot.density(ax=ax)\n",
        "ax.set_xlabel('Murder.Rate(per 100,000')"
      ],
      "execution_count": 14,
      "outputs": [
        {
          "output_type": "execute_result",
          "data": {
            "text/plain": [
              "Text(0.5, 0, 'Murder.Rate(per 100,000')"
            ]
          },
          "metadata": {
            "tags": []
          },
          "execution_count": 14
        },
        {
          "output_type": "display_data",
          "data": {
            "image/png": "[encoded data removed]",
            "text/plain": [
              "<Figure size 432x288 with 1 Axes>"
            ]
          },
          "metadata": {
            "tags": [],
            "needs_background": "light"
          }
        }
      ]
    },
    {
      "cell_type": "code",
      "metadata": {
        "id": "aXlp9rdqi-qV"
      },
      "source": [
        ""
      ],
      "execution_count": 14,
      "outputs": []
    }
  ]
}